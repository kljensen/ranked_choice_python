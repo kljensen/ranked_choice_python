{
 "cells": [
  {
   "cell_type": "code",
   "execution_count": 64,
   "metadata": {
    "collapsed": true
   },
   "outputs": [],
   "source": [
    "import csv\n",
    "from collections import Counter\n",
    "from operator import itemgetter"
   ]
  },
  {
   "cell_type": "code",
   "execution_count": 65,
   "metadata": {
    "collapsed": false
   },
   "outputs": [],
   "source": [
    "data = [row for row in csv.reader(open('tmp/ranked_choices.csv'))]"
   ]
  },
  {
   "cell_type": "code",
   "execution_count": 66,
   "metadata": {
    "collapsed": false
   },
   "outputs": [],
   "source": [
    "choices = data.pop(0)[1:]"
   ]
  },
  {
   "cell_type": "code",
   "execution_count": 67,
   "metadata": {
    "collapsed": false
   },
   "outputs": [
    {
     "data": {
      "text/plain": [
       "['Your ranked preferences [Monday, Nov 12th 6-8pm]',\n",
       " 'Your ranked preferences [Tuesday, Nov 13th 6-8pm]',\n",
       " 'Your ranked preferences [Wednesday, Nov 14th 6-8pm]',\n",
       " 'Your ranked preferences [Thursday, Nov 15th 6-8pm]',\n",
       " 'Your ranked preferences [Friday, Nov 16th 6-8pm]']"
      ]
     },
     "execution_count": 67,
     "metadata": {},
     "output_type": "execute_result"
    }
   ],
   "source": [
    "choices"
   ]
  },
  {
   "cell_type": "code",
   "execution_count": 68,
   "metadata": {
    "collapsed": false
   },
   "outputs": [],
   "source": [
    "voters = {}\n",
    "for row in data:\n",
    "    votes = [int(x) for x in row[1:]]\n",
    "    sorted_choices = [choice for (choice, rank) in sorted(enumerate(votes), key=itemgetter(1))]\n",
    "    voters[row[0]] = sorted_choices\n"
   ]
  },
  {
   "cell_type": "code",
   "execution_count": 69,
   "metadata": {
    "collapsed": true
   },
   "outputs": [],
   "source": [
    "tally = [0]*len(choices)"
   ]
  },
  {
   "cell_type": "code",
   "execution_count": 100,
   "metadata": {
    "collapsed": true
   },
   "outputs": [],
   "source": [
    "def runoff(candidates, eliminated_candidates, voters):\n",
    "    tally = [0]*len(candidates)\n",
    "    for voter_name, choices in voters.items():\n",
    "        choice = [choice for choice in choices if choice not in eliminated_candidates][0]\n",
    "        tally[choice] += 1\n",
    "    sorted_tally = sorted(enumerate(tally), key=itemgetter(1))\n",
    "    if max(tally) > 0.50 * sum(tally):\n",
    "        return sorted_tally[-1][0]\n",
    "    else:\n",
    "        last_place_candidate = [cand for (cand, votes) in sorted_tally if cand not in eliminated_candidates][0]\n",
    "        eliminated_candidates.add(last_place_candidate)\n",
    "        return runoff(candidates, eliminated_candidates, voters)\n",
    "    "
   ]
  },
  {
   "cell_type": "code",
   "execution_count": 101,
   "metadata": {
    "collapsed": false
   },
   "outputs": [],
   "source": [
    "winner = runoff(set(range(len(choices))), set(), voters)"
   ]
  },
  {
   "cell_type": "code",
   "execution_count": 102,
   "metadata": {
    "collapsed": false
   },
   "outputs": [
    {
     "data": {
      "text/plain": [
       "'Your ranked preferences [Tuesday, Nov 13th 6-8pm]'"
      ]
     },
     "execution_count": 102,
     "metadata": {},
     "output_type": "execute_result"
    }
   ],
   "source": [
    "choices[winner]"
   ]
  },
  {
   "cell_type": "code",
   "execution_count": null,
   "metadata": {
    "collapsed": true
   },
   "outputs": [],
   "source": []
  }
 ],
 "metadata": {
  "kernelspec": {
   "display_name": "Python 3",
   "language": "python",
   "name": "python3"
  },
  "language_info": {
   "codemirror_mode": {
    "name": "ipython",
    "version": 3
   },
   "file_extension": ".py",
   "mimetype": "text/x-python",
   "name": "python",
   "nbconvert_exporter": "python",
   "pygments_lexer": "ipython3",
   "version": "3.5.6"
  }
 },
 "nbformat": 4,
 "nbformat_minor": 2
}
